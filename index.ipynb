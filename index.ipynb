{
  "cells": [
    {
      "cell_type": "markdown",
      "metadata": {
        "id": "view-in-github",
        "colab_type": "text"
      },
      "source": [
        "<a href=\"https://colab.research.google.com/github/marykamithi/dsc-polynomial-regression-lab-v2-5/blob/master/index.ipynb\" target=\"_parent\"><img src=\"https://colab.research.google.com/assets/colab-badge.svg\" alt=\"Open In Colab\"/></a>"
      ]
    },
    {
      "cell_type": "markdown",
      "metadata": {
        "id": "1Ev18hUW20Kz"
      },
      "source": [
        "# Polynomial Regression - Lab"
      ]
    },
    {
      "cell_type": "markdown",
      "metadata": {
        "id": "4azZWk_S20K2"
      },
      "source": [
        "## Introduction"
      ]
    },
    {
      "cell_type": "markdown",
      "metadata": {
        "id": "1IGF7mif20K2"
      },
      "source": [
        "In this lab, you'll practice your knowledge on adding polynomial terms to your regression model!"
      ]
    },
    {
      "cell_type": "markdown",
      "metadata": {
        "id": "xOO1JCaO20K3"
      },
      "source": [
        "## Objectives"
      ]
    },
    {
      "cell_type": "markdown",
      "metadata": {
        "id": "Ja4H4x4C20K3"
      },
      "source": [
        "You will be able to:\n",
        "\n",
        "* Determine if polynomial regression would be useful for a specific model or set of data\n",
        "* Create polynomial terms out of independent variables in linear regression"
      ]
    },
    {
      "cell_type": "markdown",
      "metadata": {
        "id": "E_wAta1E20K4"
      },
      "source": [
        "## Dataset"
      ]
    },
    {
      "cell_type": "markdown",
      "metadata": {
        "id": "xiXD2xWj20K4"
      },
      "source": [
        "For this lab you'll be using some generated data:"
      ]
    },
    {
      "cell_type": "code",
      "execution_count": 1,
      "metadata": {
        "colab": {
          "base_uri": "https://localhost:8080/",
          "height": 206
        },
        "id": "wO2pR__e20K5",
        "outputId": "ebe1e812-58c1-4ff9-c604-b3cab6f94154"
      },
      "outputs": [
        {
          "output_type": "execute_result",
          "data": {
            "text/plain": [
              "          x         y\n",
              "0  0.000000  0.942870\n",
              "1  0.121212 -2.261629\n",
              "2  0.242424  3.100749\n",
              "3  0.363636 -0.285446\n",
              "4  0.484848 -1.012210"
            ],
            "text/html": [
              "\n",
              "  <div id=\"df-4637be7f-5c12-499d-9908-127e00316824\" class=\"colab-df-container\">\n",
              "    <div>\n",
              "<style scoped>\n",
              "    .dataframe tbody tr th:only-of-type {\n",
              "        vertical-align: middle;\n",
              "    }\n",
              "\n",
              "    .dataframe tbody tr th {\n",
              "        vertical-align: top;\n",
              "    }\n",
              "\n",
              "    .dataframe thead th {\n",
              "        text-align: right;\n",
              "    }\n",
              "</style>\n",
              "<table border=\"1\" class=\"dataframe\">\n",
              "  <thead>\n",
              "    <tr style=\"text-align: right;\">\n",
              "      <th></th>\n",
              "      <th>x</th>\n",
              "      <th>y</th>\n",
              "    </tr>\n",
              "  </thead>\n",
              "  <tbody>\n",
              "    <tr>\n",
              "      <th>0</th>\n",
              "      <td>0.000000</td>\n",
              "      <td>0.942870</td>\n",
              "    </tr>\n",
              "    <tr>\n",
              "      <th>1</th>\n",
              "      <td>0.121212</td>\n",
              "      <td>-2.261629</td>\n",
              "    </tr>\n",
              "    <tr>\n",
              "      <th>2</th>\n",
              "      <td>0.242424</td>\n",
              "      <td>3.100749</td>\n",
              "    </tr>\n",
              "    <tr>\n",
              "      <th>3</th>\n",
              "      <td>0.363636</td>\n",
              "      <td>-0.285446</td>\n",
              "    </tr>\n",
              "    <tr>\n",
              "      <th>4</th>\n",
              "      <td>0.484848</td>\n",
              "      <td>-1.012210</td>\n",
              "    </tr>\n",
              "  </tbody>\n",
              "</table>\n",
              "</div>\n",
              "    <div class=\"colab-df-buttons\">\n",
              "\n",
              "  <div class=\"colab-df-container\">\n",
              "    <button class=\"colab-df-convert\" onclick=\"convertToInteractive('df-4637be7f-5c12-499d-9908-127e00316824')\"\n",
              "            title=\"Convert this dataframe to an interactive table.\"\n",
              "            style=\"display:none;\">\n",
              "\n",
              "  <svg xmlns=\"http://www.w3.org/2000/svg\" height=\"24px\" viewBox=\"0 -960 960 960\">\n",
              "    <path d=\"M120-120v-720h720v720H120Zm60-500h600v-160H180v160Zm220 220h160v-160H400v160Zm0 220h160v-160H400v160ZM180-400h160v-160H180v160Zm440 0h160v-160H620v160ZM180-180h160v-160H180v160Zm440 0h160v-160H620v160Z\"/>\n",
              "  </svg>\n",
              "    </button>\n",
              "\n",
              "  <style>\n",
              "    .colab-df-container {\n",
              "      display:flex;\n",
              "      gap: 12px;\n",
              "    }\n",
              "\n",
              "    .colab-df-convert {\n",
              "      background-color: #E8F0FE;\n",
              "      border: none;\n",
              "      border-radius: 50%;\n",
              "      cursor: pointer;\n",
              "      display: none;\n",
              "      fill: #1967D2;\n",
              "      height: 32px;\n",
              "      padding: 0 0 0 0;\n",
              "      width: 32px;\n",
              "    }\n",
              "\n",
              "    .colab-df-convert:hover {\n",
              "      background-color: #E2EBFA;\n",
              "      box-shadow: 0px 1px 2px rgba(60, 64, 67, 0.3), 0px 1px 3px 1px rgba(60, 64, 67, 0.15);\n",
              "      fill: #174EA6;\n",
              "    }\n",
              "\n",
              "    .colab-df-buttons div {\n",
              "      margin-bottom: 4px;\n",
              "    }\n",
              "\n",
              "    [theme=dark] .colab-df-convert {\n",
              "      background-color: #3B4455;\n",
              "      fill: #D2E3FC;\n",
              "    }\n",
              "\n",
              "    [theme=dark] .colab-df-convert:hover {\n",
              "      background-color: #434B5C;\n",
              "      box-shadow: 0px 1px 3px 1px rgba(0, 0, 0, 0.15);\n",
              "      filter: drop-shadow(0px 1px 2px rgba(0, 0, 0, 0.3));\n",
              "      fill: #FFFFFF;\n",
              "    }\n",
              "  </style>\n",
              "\n",
              "    <script>\n",
              "      const buttonEl =\n",
              "        document.querySelector('#df-4637be7f-5c12-499d-9908-127e00316824 button.colab-df-convert');\n",
              "      buttonEl.style.display =\n",
              "        google.colab.kernel.accessAllowed ? 'block' : 'none';\n",
              "\n",
              "      async function convertToInteractive(key) {\n",
              "        const element = document.querySelector('#df-4637be7f-5c12-499d-9908-127e00316824');\n",
              "        const dataTable =\n",
              "          await google.colab.kernel.invokeFunction('convertToInteractive',\n",
              "                                                    [key], {});\n",
              "        if (!dataTable) return;\n",
              "\n",
              "        const docLinkHtml = 'Like what you see? Visit the ' +\n",
              "          '<a target=\"_blank\" href=https://colab.research.google.com/notebooks/data_table.ipynb>data table notebook</a>'\n",
              "          + ' to learn more about interactive tables.';\n",
              "        element.innerHTML = '';\n",
              "        dataTable['output_type'] = 'display_data';\n",
              "        await google.colab.output.renderOutput(dataTable, element);\n",
              "        const docLink = document.createElement('div');\n",
              "        docLink.innerHTML = docLinkHtml;\n",
              "        element.appendChild(docLink);\n",
              "      }\n",
              "    </script>\n",
              "  </div>\n",
              "\n",
              "\n",
              "    <div id=\"df-1f8b93f8-ff5a-48b2-a856-991d182056b4\">\n",
              "      <button class=\"colab-df-quickchart\" onclick=\"quickchart('df-1f8b93f8-ff5a-48b2-a856-991d182056b4')\"\n",
              "                title=\"Suggest charts\"\n",
              "                style=\"display:none;\">\n",
              "\n",
              "<svg xmlns=\"http://www.w3.org/2000/svg\" height=\"24px\"viewBox=\"0 0 24 24\"\n",
              "     width=\"24px\">\n",
              "    <g>\n",
              "        <path d=\"M19 3H5c-1.1 0-2 .9-2 2v14c0 1.1.9 2 2 2h14c1.1 0 2-.9 2-2V5c0-1.1-.9-2-2-2zM9 17H7v-7h2v7zm4 0h-2V7h2v10zm4 0h-2v-4h2v4z\"/>\n",
              "    </g>\n",
              "</svg>\n",
              "      </button>\n",
              "\n",
              "<style>\n",
              "  .colab-df-quickchart {\n",
              "      --bg-color: #E8F0FE;\n",
              "      --fill-color: #1967D2;\n",
              "      --hover-bg-color: #E2EBFA;\n",
              "      --hover-fill-color: #174EA6;\n",
              "      --disabled-fill-color: #AAA;\n",
              "      --disabled-bg-color: #DDD;\n",
              "  }\n",
              "\n",
              "  [theme=dark] .colab-df-quickchart {\n",
              "      --bg-color: #3B4455;\n",
              "      --fill-color: #D2E3FC;\n",
              "      --hover-bg-color: #434B5C;\n",
              "      --hover-fill-color: #FFFFFF;\n",
              "      --disabled-bg-color: #3B4455;\n",
              "      --disabled-fill-color: #666;\n",
              "  }\n",
              "\n",
              "  .colab-df-quickchart {\n",
              "    background-color: var(--bg-color);\n",
              "    border: none;\n",
              "    border-radius: 50%;\n",
              "    cursor: pointer;\n",
              "    display: none;\n",
              "    fill: var(--fill-color);\n",
              "    height: 32px;\n",
              "    padding: 0;\n",
              "    width: 32px;\n",
              "  }\n",
              "\n",
              "  .colab-df-quickchart:hover {\n",
              "    background-color: var(--hover-bg-color);\n",
              "    box-shadow: 0 1px 2px rgba(60, 64, 67, 0.3), 0 1px 3px 1px rgba(60, 64, 67, 0.15);\n",
              "    fill: var(--button-hover-fill-color);\n",
              "  }\n",
              "\n",
              "  .colab-df-quickchart-complete:disabled,\n",
              "  .colab-df-quickchart-complete:disabled:hover {\n",
              "    background-color: var(--disabled-bg-color);\n",
              "    fill: var(--disabled-fill-color);\n",
              "    box-shadow: none;\n",
              "  }\n",
              "\n",
              "  .colab-df-spinner {\n",
              "    border: 2px solid var(--fill-color);\n",
              "    border-color: transparent;\n",
              "    border-bottom-color: var(--fill-color);\n",
              "    animation:\n",
              "      spin 1s steps(1) infinite;\n",
              "  }\n",
              "\n",
              "  @keyframes spin {\n",
              "    0% {\n",
              "      border-color: transparent;\n",
              "      border-bottom-color: var(--fill-color);\n",
              "      border-left-color: var(--fill-color);\n",
              "    }\n",
              "    20% {\n",
              "      border-color: transparent;\n",
              "      border-left-color: var(--fill-color);\n",
              "      border-top-color: var(--fill-color);\n",
              "    }\n",
              "    30% {\n",
              "      border-color: transparent;\n",
              "      border-left-color: var(--fill-color);\n",
              "      border-top-color: var(--fill-color);\n",
              "      border-right-color: var(--fill-color);\n",
              "    }\n",
              "    40% {\n",
              "      border-color: transparent;\n",
              "      border-right-color: var(--fill-color);\n",
              "      border-top-color: var(--fill-color);\n",
              "    }\n",
              "    60% {\n",
              "      border-color: transparent;\n",
              "      border-right-color: var(--fill-color);\n",
              "    }\n",
              "    80% {\n",
              "      border-color: transparent;\n",
              "      border-right-color: var(--fill-color);\n",
              "      border-bottom-color: var(--fill-color);\n",
              "    }\n",
              "    90% {\n",
              "      border-color: transparent;\n",
              "      border-bottom-color: var(--fill-color);\n",
              "    }\n",
              "  }\n",
              "</style>\n",
              "\n",
              "      <script>\n",
              "        async function quickchart(key) {\n",
              "          const quickchartButtonEl =\n",
              "            document.querySelector('#' + key + ' button');\n",
              "          quickchartButtonEl.disabled = true;  // To prevent multiple clicks.\n",
              "          quickchartButtonEl.classList.add('colab-df-spinner');\n",
              "          try {\n",
              "            const charts = await google.colab.kernel.invokeFunction(\n",
              "                'suggestCharts', [key], {});\n",
              "          } catch (error) {\n",
              "            console.error('Error during call to suggestCharts:', error);\n",
              "          }\n",
              "          quickchartButtonEl.classList.remove('colab-df-spinner');\n",
              "          quickchartButtonEl.classList.add('colab-df-quickchart-complete');\n",
              "        }\n",
              "        (() => {\n",
              "          let quickchartButtonEl =\n",
              "            document.querySelector('#df-1f8b93f8-ff5a-48b2-a856-991d182056b4 button');\n",
              "          quickchartButtonEl.style.display =\n",
              "            google.colab.kernel.accessAllowed ? 'block' : 'none';\n",
              "        })();\n",
              "      </script>\n",
              "    </div>\n",
              "\n",
              "    </div>\n",
              "  </div>\n"
            ],
            "application/vnd.google.colaboratory.intrinsic+json": {
              "type": "dataframe",
              "variable_name": "df",
              "summary": "{\n  \"name\": \"df\",\n  \"rows\": 100,\n  \"fields\": [\n    {\n      \"column\": \"x\",\n      \"properties\": {\n        \"dtype\": \"number\",\n        \"std\": 3.516544481925093,\n        \"min\": 0.0,\n        \"max\": 12.0,\n        \"num_unique_values\": 100,\n        \"samples\": [\n          10.06060606060606,\n          6.424242424242425,\n          8.484848484848484\n        ],\n        \"semantic_type\": \"\",\n        \"description\": \"\"\n      }\n    },\n    {\n      \"column\": \"y\",\n      \"properties\": {\n        \"dtype\": \"number\",\n        \"std\": 4.878958943319209,\n        \"min\": -16.195200274544874,\n        \"max\": 9.17366329371878,\n        \"num_unique_values\": 100,\n        \"samples\": [\n          -7.789303435459762,\n          6.158599996007003,\n          -6.575615673211183\n        ],\n        \"semantic_type\": \"\",\n        \"description\": \"\"\n      }\n    }\n  ]\n}"
            }
          },
          "metadata": {},
          "execution_count": 1
        }
      ],
      "source": [
        "# Run this cell without changes\n",
        "import numpy as np\n",
        "import pandas as pd\n",
        "import matplotlib.pyplot as plt\n",
        "%matplotlib inline\n",
        "\n",
        "df = pd.read_csv('sample_data.csv')\n",
        "df.head()"
      ]
    },
    {
      "cell_type": "markdown",
      "metadata": {
        "id": "8A65jpDi20K6"
      },
      "source": [
        "Let's check out a scatter plot of `x` vs. `y`:"
      ]
    },
    {
      "cell_type": "code",
      "execution_count": 2,
      "metadata": {
        "colab": {
          "base_uri": "https://localhost:8080/",
          "height": 449
        },
        "id": "BOMXZIRv20K6",
        "outputId": "4dc5ed25-b630-48f3-c99c-793a54d9e1f8"
      },
      "outputs": [
        {
          "output_type": "display_data",
          "data": {
            "text/plain": [
              "<Figure size 640x480 with 1 Axes>"
            ],
            "image/png": "[encoded data removed]"
          },
          "metadata": {}
        }
      ],
      "source": [
        "# Run this cell without changes\n",
        "df.plot.scatter(x=\"x\", y=\"y\");"
      ]
    },
    {
      "cell_type": "markdown",
      "metadata": {
        "id": "2zD3cKJq20K6"
      },
      "source": [
        "You will notice that the data is clearly of non-linear shape. Begin to think about what degree polynomial you believe will fit it best.\n",
        "\n",
        "You will fit several different models with different polynomial degrees, then plot them in the same plot at the end."
      ]
    },
    {
      "cell_type": "code",
      "execution_count": 3,
      "metadata": {
        "id": "0H7_OAiv20K7"
      },
      "outputs": [],
      "source": [
        "# Your code here - import StatsModels and separate the data into X and y\n",
        "import statsmodels.api as sm\n",
        "\n",
        "X = df[[\"x\"]]\n",
        "y = df[\"y\"]\n"
      ]
    },
    {
      "cell_type": "markdown",
      "metadata": {
        "id": "n_ElnSTL20K7"
      },
      "source": [
        "## Build and Evaluate a Quadratic Model\n",
        "\n",
        "This model should include a constant, `x`, and `x` squared. You can use `pandas` or `PolynomialFeatures` to create the squared term."
      ]
    },
    {
      "cell_type": "code",
      "execution_count": 4,
      "metadata": {
        "id": "Yq2zmkfG20K8"
      },
      "outputs": [],
      "source": [
        "# Your code here - prepare quadratic data and fit a model\n",
        "from sklearn.preprocessing import PolynomialFeatures\n",
        "\n",
        "poly_2 = PolynomialFeatures(degree=2)\n",
        "\n",
        "x_2 = pd.DataFrame(poly_2.fit_transform(X), columns=poly_2.get_feature_names_out([\"x\"]))\n",
        "squared_results = sm.OLS(y, x_2).fit()\n"
      ]
    },
    {
      "cell_type": "code",
      "execution_count": 5,
      "metadata": {
        "colab": {
          "base_uri": "https://localhost:8080/"
        },
        "id": "fid7dpmt20K8",
        "outputId": "f35f8af8-7d07-4bbf-b49b-36b434d51442"
      },
      "outputs": [
        {
          "output_type": "stream",
          "name": "stdout",
          "text": [
            "\n",
            "R-Squared Values\n",
            "Quadratic Regression: -0.015664188856822747\n",
            "\n"
          ]
        }
      ],
      "source": [
        "# Your code here - evaluate (adjusted) R-Squared and coefficient p-values\n",
        "print(f\"\"\"\n",
        "R-Squared Values\n",
        "Quadratic Regression: {squared_results.rsquared_adj}\n",
        "\"\"\")\n"
      ]
    },
    {
      "cell_type": "code",
      "source": [
        "squared_results.pvalues"
      ],
      "metadata": {
        "colab": {
          "base_uri": "https://localhost:8080/",
          "height": 178
        },
        "id": "DdquQubq5Xzy",
        "outputId": "689b7034-1864-43a0-f41d-a9747dd5554c"
      },
      "execution_count": 6,
      "outputs": [
        {
          "output_type": "execute_result",
          "data": {
            "text/plain": [
              "1      0.938055\n",
              "x      0.893974\n",
              "x^2    0.967420\n",
              "dtype: float64"
            ],
            "text/html": [
              "<div>\n",
              "<style scoped>\n",
              "    .dataframe tbody tr th:only-of-type {\n",
              "        vertical-align: middle;\n",
              "    }\n",
              "\n",
              "    .dataframe tbody tr th {\n",
              "        vertical-align: top;\n",
              "    }\n",
              "\n",
              "    .dataframe thead th {\n",
              "        text-align: right;\n",
              "    }\n",
              "</style>\n",
              "<table border=\"1\" class=\"dataframe\">\n",
              "  <thead>\n",
              "    <tr style=\"text-align: right;\">\n",
              "      <th></th>\n",
              "      <th>0</th>\n",
              "    </tr>\n",
              "  </thead>\n",
              "  <tbody>\n",
              "    <tr>\n",
              "      <th>1</th>\n",
              "      <td>0.938055</td>\n",
              "    </tr>\n",
              "    <tr>\n",
              "      <th>x</th>\n",
              "      <td>0.893974</td>\n",
              "    </tr>\n",
              "    <tr>\n",
              "      <th>x^2</th>\n",
              "      <td>0.967420</td>\n",
              "    </tr>\n",
              "  </tbody>\n",
              "</table>\n",
              "</div><br><label><b>dtype:</b> float64</label>"
            ]
          },
          "metadata": {},
          "execution_count": 6
        }
      ]
    },
    {
      "cell_type": "code",
      "execution_count": null,
      "metadata": {
        "id": "WPsaTHRP20K8"
      },
      "outputs": [],
      "source": [
        "# Your written answer here - summarize findings\n"
      ]
    },
    {
      "cell_type": "markdown",
      "metadata": {
        "id": "dFik5ny120K9"
      },
      "source": [
        "<details>\n",
        "    <summary style=\"cursor: pointer\"><b>Answer (click to reveal)</b></summary>\n",
        "    \n",
        "This is not a good model. Because we have multiple terms and are explaining so little of the variance in `y`, we actually have a negative adjusted R-Squared.\n",
        "\n",
        "None of the coefficients are statistically significant at an alpha of 0.05\n",
        "    \n",
        "</details>"
      ]
    },
    {
      "cell_type": "markdown",
      "metadata": {
        "id": "n_A7uc0Y20K9"
      },
      "source": [
        "## Build and Evaluate a 4th Degree Polynomial Model\n",
        "\n",
        "In other words, the model should include $x^0$ (intercept), $x^1$, $x^2$, $x^3$, and $x^4$ terms.\n",
        "\n",
        "At this point we recommend importing and using `PolynomialFeatures` if you haven't already!"
      ]
    },
    {
      "cell_type": "code",
      "execution_count": 7,
      "metadata": {
        "id": "fZPhojaf20K9"
      },
      "outputs": [],
      "source": [
        "# Your code here - prepare 4th degree polynomial data and fit a model\n",
        "poly_4 = PolynomialFeatures(degree=4)\n",
        "\n",
        "x_4 = pd.DataFrame(poly_4.fit_transform(X), columns=poly_4.get_feature_names_out([\"x\"]))\n",
        "poly_4_results = sm.OLS(y, x_4).fit()\n"
      ]
    },
    {
      "cell_type": "code",
      "execution_count": 8,
      "metadata": {
        "colab": {
          "base_uri": "https://localhost:8080/",
          "height": 241
        },
        "id": "mHAwNf0l20K9",
        "outputId": "977c3115-b062-4846-ee36-89b39959c6f1"
      },
      "outputs": [
        {
          "output_type": "execute_result",
          "data": {
            "text/plain": [
              "1      1.995047e-04\n",
              "x      1.738988e-10\n",
              "x^2    3.340296e-14\n",
              "x^3    1.715785e-16\n",
              "x^4    7.408453e-18\n",
              "dtype: float64"
            ],
            "text/html": [
              "<div>\n",
              "<style scoped>\n",
              "    .dataframe tbody tr th:only-of-type {\n",
              "        vertical-align: middle;\n",
              "    }\n",
              "\n",
              "    .dataframe tbody tr th {\n",
              "        vertical-align: top;\n",
              "    }\n",
              "\n",
              "    .dataframe thead th {\n",
              "        text-align: right;\n",
              "    }\n",
              "</style>\n",
              "<table border=\"1\" class=\"dataframe\">\n",
              "  <thead>\n",
              "    <tr style=\"text-align: right;\">\n",
              "      <th></th>\n",
              "      <th>0</th>\n",
              "    </tr>\n",
              "  </thead>\n",
              "  <tbody>\n",
              "    <tr>\n",
              "      <th>1</th>\n",
              "      <td>1.995047e-04</td>\n",
              "    </tr>\n",
              "    <tr>\n",
              "      <th>x</th>\n",
              "      <td>1.738988e-10</td>\n",
              "    </tr>\n",
              "    <tr>\n",
              "      <th>x^2</th>\n",
              "      <td>3.340296e-14</td>\n",
              "    </tr>\n",
              "    <tr>\n",
              "      <th>x^3</th>\n",
              "      <td>1.715785e-16</td>\n",
              "    </tr>\n",
              "    <tr>\n",
              "      <th>x^4</th>\n",
              "      <td>7.408453e-18</td>\n",
              "    </tr>\n",
              "  </tbody>\n",
              "</table>\n",
              "</div><br><label><b>dtype:</b> float64</label>"
            ]
          },
          "metadata": {},
          "execution_count": 8
        }
      ],
      "source": [
        "# Your code here - evaluate (adjusted) R-Squared and coefficient p-values\n",
        "poly_4_results.pvalues"
      ]
    },
    {
      "cell_type": "code",
      "execution_count": null,
      "metadata": {
        "id": "I_3nWtXV20K9"
      },
      "outputs": [],
      "source": [
        "# Your written answer here - summarize findings\n"
      ]
    },
    {
      "cell_type": "markdown",
      "metadata": {
        "id": "f7mmZUu720K-"
      },
      "source": [
        "<details>\n",
        "    <summary style=\"cursor: pointer\"><b>Answer (click to reveal)</b></summary>\n",
        "    \n",
        "This is much better. We are explaining 57-58% of the variance in the target and all of our coefficients are statistically significant at an alpha of 0.05.\n",
        "    \n",
        "</details>"
      ]
    },
    {
      "cell_type": "markdown",
      "metadata": {
        "id": "B3c0wl_Q20K-"
      },
      "source": [
        "## Build and Evaluate an 8th Degree Polynomial Model\n",
        "\n",
        "This model should include $x^0$ through $x^8$."
      ]
    },
    {
      "cell_type": "code",
      "execution_count": 9,
      "metadata": {
        "id": "331ri9jT20K-"
      },
      "outputs": [],
      "source": [
        "# Your code here - prepare 8th degree polynomial data and fit a model\n",
        "poly_8 = PolynomialFeatures(degree=8)\n",
        "\n",
        "x_8 = pd.DataFrame(poly_8.fit_transform(X), columns=poly_8.get_feature_names_out([\"x\"]))\n",
        "poly_8_results = sm.OLS(y, x_8).fit()"
      ]
    },
    {
      "cell_type": "code",
      "execution_count": 10,
      "metadata": {
        "colab": {
          "base_uri": "https://localhost:8080/",
          "height": 366
        },
        "id": "2c47BI_D20K-",
        "outputId": "04b9818d-dacd-401f-de76-7fced8308851"
      },
      "outputs": [
        {
          "output_type": "execute_result",
          "data": {
            "text/plain": [
              "1      0.683776\n",
              "x      0.618134\n",
              "x^2    0.371163\n",
              "x^3    0.199162\n",
              "x^4    0.144776\n",
              "x^5    0.157523\n",
              "x^6    0.225536\n",
              "x^7    0.357352\n",
              "x^8    0.554141\n",
              "dtype: float64"
            ],
            "text/html": [
              "<div>\n",
              "<style scoped>\n",
              "    .dataframe tbody tr th:only-of-type {\n",
              "        vertical-align: middle;\n",
              "    }\n",
              "\n",
              "    .dataframe tbody tr th {\n",
              "        vertical-align: top;\n",
              "    }\n",
              "\n",
              "    .dataframe thead th {\n",
              "        text-align: right;\n",
              "    }\n",
              "</style>\n",
              "<table border=\"1\" class=\"dataframe\">\n",
              "  <thead>\n",
              "    <tr style=\"text-align: right;\">\n",
              "      <th></th>\n",
              "      <th>0</th>\n",
              "    </tr>\n",
              "  </thead>\n",
              "  <tbody>\n",
              "    <tr>\n",
              "      <th>1</th>\n",
              "      <td>0.683776</td>\n",
              "    </tr>\n",
              "    <tr>\n",
              "      <th>x</th>\n",
              "      <td>0.618134</td>\n",
              "    </tr>\n",
              "    <tr>\n",
              "      <th>x^2</th>\n",
              "      <td>0.371163</td>\n",
              "    </tr>\n",
              "    <tr>\n",
              "      <th>x^3</th>\n",
              "      <td>0.199162</td>\n",
              "    </tr>\n",
              "    <tr>\n",
              "      <th>x^4</th>\n",
              "      <td>0.144776</td>\n",
              "    </tr>\n",
              "    <tr>\n",
              "      <th>x^5</th>\n",
              "      <td>0.157523</td>\n",
              "    </tr>\n",
              "    <tr>\n",
              "      <th>x^6</th>\n",
              "      <td>0.225536</td>\n",
              "    </tr>\n",
              "    <tr>\n",
              "      <th>x^7</th>\n",
              "      <td>0.357352</td>\n",
              "    </tr>\n",
              "    <tr>\n",
              "      <th>x^8</th>\n",
              "      <td>0.554141</td>\n",
              "    </tr>\n",
              "  </tbody>\n",
              "</table>\n",
              "</div><br><label><b>dtype:</b> float64</label>"
            ]
          },
          "metadata": {},
          "execution_count": 10
        }
      ],
      "source": [
        "# Your code here - evaluate (adjusted) R-Squared and coefficient p-values\n",
        "poly_8_results.pvalues"
      ]
    },
    {
      "cell_type": "code",
      "execution_count": null,
      "metadata": {
        "id": "QFoCCJU_20K-"
      },
      "outputs": [],
      "source": [
        "# Your written answer here - summarize findings\n"
      ]
    },
    {
      "cell_type": "markdown",
      "metadata": {
        "id": "dM2Q7EiZ20K_"
      },
      "source": [
        "<details>\n",
        "    <summary style=\"cursor: pointer\"><b>Answer (click to reveal)</b></summary>\n",
        "    \n",
        "Our R-Squared is higher, but none of the coefficients are statistically significant at an alpha of 0.05 any more. If what we care about is an inferential understanding of the data, this is too high a degree of the polynomial.\n",
        "    \n",
        "</details>"
      ]
    },
    {
      "cell_type": "markdown",
      "metadata": {
        "id": "d8ZFS2uQ20K_"
      },
      "source": [
        "## Plot All Models\n",
        "\n",
        "Build a single plot that shows the raw data as a scatter plot, as well as all of the models you have developed as line graphs. Make sure that everything is labeled so you can tell the different models apart!"
      ]
    },
    {
      "cell_type": "code",
      "execution_count": 11,
      "metadata": {
        "colab": {
          "base_uri": "https://localhost:8080/",
          "height": 522
        },
        "id": "ta7uCsmB20K_",
        "outputId": "58d1fcd6-c958-4e5c-819c-03008629ed29"
      },
      "outputs": [
        {
          "output_type": "display_data",
          "data": {
            "text/plain": [
              "<Figure size 1000x600 with 1 Axes>"
            ],
            "image/png": "[encoded data removed]"
          },
          "metadata": {}
        }
      ],
      "source": [
        "# Your code here\n",
        "\n",
        "fig, ax = plt.subplots(figsize=(10, 6))\n",
        "\n",
        "models = [squared_results, poly_4_results, poly_8_results]\n",
        "data = [x_2, x_4, x_8]\n",
        "colors = ['yellow', 'lightgreen', 'cyan']\n",
        "\n",
        "ax.scatter(X, y, label=\"data points\", color=\"black\")\n",
        "for i, model in enumerate(models):\n",
        "    ax.plot(\n",
        "        X, # plot same x values for every model\n",
        "        model.predict(data[i]), # generate predictions using relevant preprocessed data\n",
        "        label=f\"polynomial degree {(i + 1)*2}\", # degree happens to be 2 times (i + 1)\n",
        "        color=colors[i], # select color from list declared earlier\n",
        "        linewidth=5,\n",
        "        alpha=0.7\n",
        "    )\n",
        "\n",
        "ax.legend();"
      ]
    },
    {
      "cell_type": "markdown",
      "metadata": {
        "id": "Dp_khLmd20K_"
      },
      "source": [
        "### Interpret Findings\n",
        "\n",
        "Based on the metrics as well as the graphs, which model do you think is the best? Why?"
      ]
    },
    {
      "cell_type": "code",
      "execution_count": null,
      "metadata": {
        "id": "3Z64I1F820K_"
      },
      "outputs": [],
      "source": [
        "# Your written answer here\n"
      ]
    },
    {
      "cell_type": "markdown",
      "metadata": {
        "id": "1rHrLbyQ20LA"
      },
      "source": [
        "<details>\n",
        "    <summary style=\"cursor: pointer\"><b>Answer (click to reveal)</b></summary>\n",
        "    \n",
        "The quadratic model (polynomial degree 2) is definitely not the best based on all of the evidence we have. It has the worst R-Squared, the coefficient p-values are not significant, and you can see from the graph that there is a lot of variance in the data that it is not picking up on.\n",
        "\n",
        "Our visual inspection aligns with the worse R-Squared for the 4th degree polynomial compared to the 8th degree polynomial. The 4th degree polynomial is flatter and doesn't seem to capture the extremes of the data as well.\n",
        "    \n",
        "However if we wanted to interpret the coefficients, then only the 4th degree polynomial has statistically significant results. The interpretation would be challenging because of the number of terms, but we could apply some calculus techniques to describe inflection points.\n",
        "\n",
        "Overall it appears that this dataset is not particularly well suited to an inferential linear regression approach, even with polynomial transformations. So the \"best\" model could be either the 4th or 8th degree polynomial depending on which aspect of the model is more important to you, but either way it will be challenging to translate it into insights for stakeholders.\n",
        "    \n",
        "</details>"
      ]
    },
    {
      "cell_type": "markdown",
      "metadata": {
        "id": "GycUh5E_20LA"
      },
      "source": [
        "## Summary"
      ]
    },
    {
      "cell_type": "markdown",
      "metadata": {
        "id": "h-3m9oms20LA"
      },
      "source": [
        "Great job! You now know how to include polynomials in your linear models as well as the limitations of applying polynomial regression."
      ]
    }
  ],
  "metadata": {
    "kernelspec": {
      "display_name": "Python (learn-env)",
      "language": "python",
      "name": "learn-env"
    },
    "language_info": {
      "codemirror_mode": {
        "name": "ipython",
        "version": 3
      },
      "file_extension": ".py",
      "mimetype": "text/x-python",
      "name": "python",
      "nbconvert_exporter": "python",
      "pygments_lexer": "ipython3",
      "version": "3.8.5"
    },
    "colab": {
      "provenance": [],
      "include_colab_link": true
    }
  },
  "nbformat": 4,
  "nbformat_minor": 0
}